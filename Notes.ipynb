{
 "cells": [
  {
   "cell_type": "code",
   "execution_count": 1,
   "metadata": {},
   "outputs": [],
   "source": [
    "# Step 1: Create github repo\n",
    "# Step 2: Open the desired location in Vscode and create environment. \n",
    "# Step 3: Create a dummy README.md file.\n",
    "# Step 4: Sync the data from your local to github.\n",
    "# Step 5: Create git ignore file in Github.\n",
    "# Step 6: Pull the git ignore file from Github into local."
   ]
  },
  {
   "cell_type": "code",
   "execution_count": 2,
   "metadata": {},
   "outputs": [],
   "source": [
    "# Step 7: Create the requirements.txt file. \n",
    "# Step 8: Create setup.py file. This file defines the meta data about the project. \n",
    "# Step 9: Create src folder.\n",
    "# Step 10: Create init file in src folder,\n",
    "# Step 11: Run pip install -r requirements.txt file in terminal. when you do this, then because of -e ., our setup file \n",
    "# will also run and then we should be able to see the eff-info folder being created as a part of this build."
   ]
  },
  {
   "cell_type": "code",
   "execution_count": 3,
   "metadata": {},
   "outputs": [],
   "source": [
    "# Step 12: Create \"components\" folder in src. Create init file in it. \n",
    "# Step 13: Creare data ingestion.py file in components folder. Then create data_transformation.py in components.\n",
    "# Step 14: Create model_trainer.py file in components folder. \n",
    "# Step 15: Creare another folder called pipeleine in src. In this create init file, train_pipeline.py, predict_pipeline.py\n",
    "# Step 16: Outside create three files - exception.py, logger.py and utils.py\n",
    "# Step 17: Write code for exception\n",
    "    # -Define the error_details_message function from where the construction of error message will happen.\n",
    "    # -Define CustomException class. This will inherit the exceptions class and then we will write constructor and \n",
    "    # also override the __str__ method so we display out message when we call the constructor. \n",
    "# Step 18: Write the code for logging\n",
    "    # - Define the logging file and folder name.\n",
    "    # - override the logging.basicConfig function - filename, format, level\n",
    "# Step 19: Test the logger and exception modules by running them."
   ]
  },
  {
   "cell_type": "code",
   "execution_count": 4,
   "metadata": {},
   "outputs": [],
   "source": [
    "# Step 20: Perform EDA"
   ]
  },
  {
   "cell_type": "code",
   "execution_count": 1,
   "metadata": {},
   "outputs": [],
   "source": [
    "# Step 21: Create data_ingestion.ipynb file.\n",
    "# Step 22: Create data_transformation.ipynb file\n",
    "# Step 23: Create the model_trainer.ipynb file\n",
    "# Step 24: Create the app.py file\n",
    "# Step 25: Create index.html and home.html files\n",
    "# Step 26: Create prediction pipleine"
   ]
  },
  {
   "cell_type": "code",
   "execution_count": null,
   "metadata": {},
   "outputs": [],
   "source": [
    "# deployment on elastic beanstalk\n",
    "# 1. Create .ebextensions folder and in it create python.config file. this file tells beanstalk about the entry point in the\n",
    "# application\n",
    "# 2. Create application.py file\n",
    "# 3. Deploy the code on Github\n",
    "# 4. Delete the app.py file as it will cause issues with deployment."
   ]
  }
 ],
 "metadata": {
  "kernelspec": {
   "display_name": "Python 3",
   "language": "python",
   "name": "python3"
  },
  "language_info": {
   "codemirror_mode": {
    "name": "ipython",
    "version": 3
   },
   "file_extension": ".py",
   "mimetype": "text/x-python",
   "name": "python",
   "nbconvert_exporter": "python",
   "pygments_lexer": "ipython3",
   "version": "3.8.19"
  }
 },
 "nbformat": 4,
 "nbformat_minor": 2
}
